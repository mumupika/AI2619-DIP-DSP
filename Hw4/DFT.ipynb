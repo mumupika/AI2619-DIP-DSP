{
 "cells": [
  {
   "cell_type": "markdown",
   "metadata": {},
   "source": [
    "# DFT experiment\n",
    "### In the following experiment, we implement the Discrete Fourier Transformation in four different ways, the naive way, the divide and conquer way, using numpy's FFT, and using sparse matrix multiplication, and evaluate the executing time."
   ]
  },
  {
   "cell_type": "markdown",
   "metadata": {},
   "source": [
    "## Step 0: import all necessary toolkits."
   ]
  },
  {
   "cell_type": "code",
   "execution_count": 1,
   "metadata": {},
   "outputs": [],
   "source": [
    "import numpy as np\n",
    "import scipy as scp\n",
    "import time\n",
    "import math\n",
    "import matplotlib.pyplot as plt\n",
    "from math import cos as cos\n",
    "from math import sin as sin\n",
    "from math import pi as pi\n",
    "from math import log2 as log2\n",
    "from math import log10 as lg\n",
    "from math import exp\n",
    "from scipy.sparse import block_diag\n",
    "from scipy import sparse"
   ]
  },
  {
   "cell_type": "markdown",
   "metadata": {},
   "source": [
    "## Step 1: Generating sequences\n",
    "### from 2 to $2^{24}$ ,and check one of the seuqence."
   ]
  },
  {
   "cell_type": "code",
   "execution_count": 2,
   "metadata": {},
   "outputs": [],
   "source": [
    "# 1.Generating integer sequences;\n",
    "sequences=[]\n",
    "for i in range(1,24):\n",
    "    sample=[]\n",
    "    for j in range(2**(i)):\n",
    "        sample.append(np.random.randint(0,10))\n",
    "    sequences.append(sample)"
   ]
  },
  {
   "cell_type": "code",
   "execution_count": 3,
   "metadata": {},
   "outputs": [
    {
     "name": "stdout",
     "output_type": "stream",
     "text": [
      "[9, 4, 6, 6, 6, 7, 6, 1, 0, 0, 8, 6, 2, 1, 8, 5, 0, 3, 1, 3, 5, 0, 5, 7, 6, 9, 0, 0, 0, 7, 7, 3]\n"
     ]
    }
   ],
   "source": [
    "print(sequences[4]) #This is 2**5."
   ]
  },
  {
   "cell_type": "markdown",
   "metadata": {},
   "source": [
    "## Step 2: Using for iteration to compute DFT (Naive way)\n",
    "### This needs $O(n^2)$."
   ]
  },
  {
   "cell_type": "markdown",
   "metadata": {},
   "source": [
    "### Naive DFT:\n",
    "The naive dft can be expressed as: $\\displaystyle X[k]=\\sum_{n=0}^{N-1}x[n]W_N^{k}$, with $\\displaystyle W_N^k=e^{-j\\dfrac{2\\pi}{N}nk}$, with $j$ is the unit imaginary.\n",
    "\n",
    "For each k, it will operate multiplication and add for $2n-1$ times and $n$ times to calculate all $X[k]$. So the asymptotic time complexity is $O(n^2)$.\n",
    "\n",
    "For a better result output, we round the bits to 8 digit."
   ]
  },
  {
   "cell_type": "code",
   "execution_count": 4,
   "metadata": {},
   "outputs": [],
   "source": [
    "def DFT_0(sample):\n",
    "    sample_output=[]\n",
    "    N=len(sample)\n",
    "    for i in range(N):\n",
    "        real=0\n",
    "        img=0\n",
    "        for j in range(N):\n",
    "            real+=sample[j]*cos(-2*pi*i*j/N)\n",
    "            img+=sample[j]*sin(-2*pi*i*j/N)    # in fact this should be count in complexity.\n",
    "        # After inner iteration\n",
    "        real=round(real,8)\n",
    "        img=round(img,8)\n",
    "        output=complex(real,img)\n",
    "        end_time=time.time()\n",
    "        sample_output.append(output)\n",
    "    return sample_output"
   ]
  },
  {
   "cell_type": "code",
   "execution_count": 5,
   "metadata": {},
   "outputs": [
    {
     "name": "stdout",
     "output_type": "stream",
     "text": [
      "(28+0j),(-4+9.65685425j),(-4+4j),\n",
      "\n",
      "(-4+1.65685425j),(-4-0j),(-4-1.65685425j),\n",
      "\n",
      "(-4-4j),(-4-9.65685425j),"
     ]
    },
    {
     "data": {
      "text/plain": [
       "array([28.+0.j        , -4.+9.65685425j, -4.+4.j        , -4.+1.65685425j,\n",
       "       -4.+0.j        , -4.-1.65685425j, -4.-4.j        , -4.-9.65685425j])"
      ]
     },
     "execution_count": 5,
     "metadata": {},
     "output_type": "execute_result"
    }
   ],
   "source": [
    "test_sample=[0,1,2,3,4,5,6,7]\n",
    "output=DFT_0(test_sample)\n",
    "for i in range(len(test_sample)):\n",
    "    print(output[i],end=',')\n",
    "    if i%3==2:\n",
    "        print('\\n')\n",
    "np.fft.fft(test_sample)"
   ]
  },
  {
   "cell_type": "markdown",
   "metadata": {},
   "source": [
    "## Step 2: Use Divide and conquer to do DFT.\n",
    "Note that the recurse of python is time comsuming, we developed a new method that compute DFT in iteration.\n",
    "### Step 2.1 Bit reverse and data pre_load."
   ]
  },
  {
   "cell_type": "markdown",
   "metadata": {},
   "source": [
    "### The following method is called the gold raden algorithm. The time complexity for getiing the bit reversed is $O(n\\log{n})$.\n",
    "From: An_improved_FFT_digit-reversal_algorithm,1989\n",
    "\n",
    "<img src=\"./1.png\" align=\"center\" width=\"370\" height=\"400\">\n"
   ]
  },
  {
   "cell_type": "markdown",
   "metadata": {},
   "source": [
    "### But we implemented a faster liniear bit reverse algorithm of $O(n)$.\n",
    "\n",
    "We started from 0. we can easy find that $bitRev(0)=0$. When implementing $bitRev(x)$, $bitRev(\\lfloor \\dfrac{x}{2}\\rfloor)$ is known. So we can rigfht shift x, then flip, then rigt shift one bit, we can have the bit reverse result except LSB.\n",
    "\n",
    "Consider LSB now. If LSB is 0, then MSB after flip is 0. Else,MSB is 1. So we should add $2^{N-1}$ for a N digit bit reverse.\n",
    "\n",
    "For example, set N=5.\n",
    "\n",
    "1. For $(1100)_2$, the left shift of it stores $(00110)_2$. Right shift this again get $(00011)_2$.\n",
    "\n",
    "2. For LSB, it is 1, so we should add $2^4$. Here we can implement by bitOR.\n",
    "\n",
    "3. Identify LSB is 1 or 0, we can use bitAND with 1 to judge it. So $(i\\&1)<<(l-1)$ is: when LSB is 1, we add $2^{N-1}$. Else keep it."
   ]
  },
  {
   "cell_type": "markdown",
   "metadata": {},
   "source": [
    "### The algorithm is developed by Elster, 1989.\n",
    "\n",
    "From: Fast Bit-Reversal algorithms.\n",
    "\n",
    "<img src='./2.png'>"
   ]
  },
  {
   "cell_type": "code",
   "execution_count": 6,
   "metadata": {},
   "outputs": [],
   "source": [
    "def bitrev(inv):\n",
    "    l=1\n",
    "    n=len(inv)\n",
    "    while (1 << l) < n: l+=1\n",
    "    for i in range(len(inv)):\n",
    "        inv[i]=(inv[i>>1]>>1) | (i&1)<<(l-1) # This is a magic function!!!\n",
    "\n",
    "def gen_inv(N):\n",
    "    inv=[]\n",
    "    for i in range(N):\n",
    "        inv.append(i)\n",
    "    return inv\n",
    "\n",
    "def data_deal(sample):\n",
    "    N=len(sample)\n",
    "    sample_dealed=[]\n",
    "    inv=gen_inv(N)\n",
    "    bitrev(inv)\n",
    "    for i in range(N):\n",
    "        sample_dealed.append(sample[inv[i]])\n",
    "    return sample_dealed"
   ]
  },
  {
   "cell_type": "code",
   "execution_count": 7,
   "metadata": {},
   "outputs": [
    {
     "data": {
      "text/plain": [
       "[0, 4, 2, 6, 1, 5, 3, 7]"
      ]
     },
     "execution_count": 7,
     "metadata": {},
     "output_type": "execute_result"
    }
   ],
   "source": [
    "inv=gen_inv(8)\n",
    "bitrev(inv)\n",
    "(inv)"
   ]
  },
  {
   "cell_type": "markdown",
   "metadata": {},
   "source": [
    "## Step 2: Implement the DFT by Divide and Conquer.\n",
    "### By divide and conquer, we theoretically achieved $O(n\\log{n})$. But in-built python may elapse more time."
   ]
  },
  {
   "cell_type": "code",
   "execution_count": 8,
   "metadata": {},
   "outputs": [],
   "source": [
    "def DFT_1_no_iter(sample):\n",
    "    '''Use for 2**n sequences.'''\n",
    "    sample=data_deal(sample)\n",
    "    N=len(sample)\n",
    "    output=list(sample)\n",
    "    h=2\n",
    "    while h<=N:\n",
    "        j=0\n",
    "        while j<N:\n",
    "            for k in range(j,j+(h>>1)):\n",
    "                w=complex(round(cos(-2*pi*(k-j)/h),8),round(sin(-2*pi*(k-j)/h),8))\n",
    "                x=output[k]\n",
    "                y=w*output[(h>>1)+k]\n",
    "                output[k]=x+y\n",
    "                output[(h>>1)+k]=x-y\n",
    "            j+=h\n",
    "        h <<= 1\n",
    "    return output"
   ]
  },
  {
   "cell_type": "markdown",
   "metadata": {},
   "source": [
    "The following is the verification of the correctness of our code."
   ]
  },
  {
   "cell_type": "code",
   "execution_count": 9,
   "metadata": {},
   "outputs": [
    {
     "name": "stdout",
     "output_type": "stream",
     "text": [
      "[ 1.31000000e+02 +0.j          1.69529098e+01 -1.74822275j\n",
      "  4.80429501e+00 -6.54685829j  1.24702187e+01-23.95301988j\n",
      "  3.41421356e+00+11.j         -4.98392227e+00+25.19681831j\n",
      " -3.58220534e+00+15.14865984j -2.99495328e-02-30.07522858j\n",
      " -1.30000000e+01 +0.j          1.45822678e+01 -1.09583649j\n",
      "  5.33956465e+00 -9.92240798j  8.40235492e+00+13.15243023j\n",
      "  5.85786438e-01-11.j          2.29397757e+01 -3.51212658j\n",
      "  5.43834568e+00 +4.38207389j  1.66634489e+00+11.71645071j\n",
      "  7.00000000e+00 +0.j          1.66634489e+00-11.71645071j\n",
      "  5.43834568e+00 -4.38207389j  2.29397757e+01 +3.51212658j\n",
      "  5.85786438e-01+11.j          8.40235492e+00-13.15243023j\n",
      "  5.33956465e+00 +9.92240798j  1.45822678e+01 +1.09583649j\n",
      " -1.30000000e+01 +0.j         -2.99495328e-02+30.07522858j\n",
      " -3.58220534e+00-15.14865984j -4.98392227e+00-25.19681831j\n",
      "  3.41421356e+00-11.j          1.24702187e+01+23.95301988j\n",
      "  4.80429501e+00 +6.54685829j  1.69529098e+01 +1.74822275j]\n",
      "(131+0j),(16.952909752589143-1.748222705588959j),\n",
      "(4.804295004858674-6.546858292538605j),(12.470218732374406-23.953019804548124j),\n",
      "(3.4142135600000003+11j),(-4.98392215871062+25.19681819188069j),\n",
      "(-3.582205312538606+15.148659824858676j),(-0.029949580545213017-30.07522848619839j),\n",
      "(-13+0j),(14.582267792331834-1.0958364679335357j),\n",
      "(5.339564632538606-9.922407975141326j),(8.402354856975474+13.152430123667312j),\n",
      "(0.5857864399999999-11j),(22.939775689360744-3.512126512761501j),\n",
      "(5.438345675141327+4.382073907461393j),(1.6663449156242347+11.716450672675897j),\n",
      "(7+0j),(1.6663449156242347-11.716450672675897j),\n",
      "(5.438345675141327-4.382073907461393j),(22.939775689360744+3.512126512761501j),\n",
      "(0.5857864399999999+11j),(8.402354856975474-13.152430123667312j),\n",
      "(5.339564632538606+9.922407975141326j),(14.582267792331834+1.0958364679335357j),\n",
      "(-13+0j),(-0.029949580545213017+30.07522848619839j),\n",
      "(-3.582205312538606-15.148659824858676j),(-4.98392215871062-25.19681819188069j),\n",
      "(3.4142135600000003-11j),(12.470218732374406+23.953019804548124j),\n",
      "(4.804295004858674+6.546858292538605j),(16.952909752589143+1.748222705588959j),\n"
     ]
    }
   ],
   "source": [
    "print(np.fft.fft(sequences[4]))\n",
    "output=DFT_1_no_iter(sequences[4])\n",
    "for i in range(len(sequences[4])):\n",
    "    print(output[i],end=',')\n",
    "    if i%2==1:\n",
    "        print('\\n',end='')"
   ]
  },
  {
   "cell_type": "markdown",
   "metadata": {},
   "source": [
    "## Step 3: Using Matrix multiplication\n",
    "### To calculate the DFT by matrix.\n",
    "### Note that naive matrix multiplication is $O(n^3)$, and by sparse matrix multiplication, we use compress by row matrix to calculate it. Thus it is $O(an^2+bn^2)$ for a and b are compressed row numbers."
   ]
  },
  {
   "cell_type": "code",
   "execution_count": 10,
   "metadata": {},
   "outputs": [],
   "source": [
    "def Matrix_gen(N):\n",
    "    count = 1\n",
    "    j=complex(0,1)\n",
    "    final_matrix=sparse.identity(N)\n",
    "    N=N >> 1\n",
    "    while N>0:\n",
    "        identity=np.identity(N)\n",
    "        omega=np.diag([w:=complex(round(cos(-2*pi*i/(N << 1)),8),round(sin(-2*pi*i/(N << 1)),8)) for i in range(N)])\n",
    "        factor=np.concatenate((np.concatenate((identity,omega),axis=1),np.concatenate((identity,(-1)*omega),axis=1)),axis=0)\n",
    "        B=factor\n",
    "        for _ in range(count-1):\n",
    "            B=block_diag((B,factor))\n",
    "        B=sparse.csr_matrix(B)\n",
    "        final_matrix=final_matrix.dot(B)\n",
    "        N=N >> 1\n",
    "        count=count << 1\n",
    "    return final_matrix\n",
    "\n",
    "def matrix_fft(sample):\n",
    "    N=len(sample)\n",
    "    sample_dealed=np.array(data_deal(sample)).reshape((len(sample),1))\n",
    "    sample_dealed=sparse.csr_matrix(sample_dealed)\n",
    "    matrix=Matrix_gen(N)\n",
    "    output=matrix.dot(sample_dealed)\n",
    "    return output"
   ]
  },
  {
   "cell_type": "code",
   "execution_count": 11,
   "metadata": {},
   "outputs": [
    {
     "name": "stdout",
     "output_type": "stream",
     "text": [
      "[120. +0.j          -8.+40.21871594j  -8.+19.3137085j   -8.+11.9728461j\n",
      "  -8. +8.j          -8. +5.3454291j   -8. +3.3137085j   -8. +1.59129894j\n",
      "  -8. +0.j          -8. -1.59129894j  -8. -3.3137085j   -8. -5.3454291j\n",
      "  -8. -8.j          -8.-11.9728461j   -8.-19.3137085j   -8.-40.21871594j]\n",
      "  (0, 0)\t(120+0j)\n",
      "  (1, 0)\t(-8.000000032853514+40.21871583305942j)\n",
      "  (2, 0)\t(-8.000000000000002+19.313708480000003j)\n",
      "  (3, 0)\t(-8.000000006940585+11.972846047146486j)\n",
      "  (4, 0)\t(-8+8j)\n",
      "  (5, 0)\t(-7.999999993059415+5.345429087146488j)\n",
      "  (6, 0)\t(-8.000000000000002+3.3137084799999985j)\n",
      "  (7, 0)\t(-7.999999967146487+1.591298873059415j)\n",
      "  (8, 0)\t(-8+0j)\n",
      "  (9, 0)\t(-7.999999967146487-1.591298873059415j)\n",
      "  (10, 0)\t(-8.000000000000002-3.3137084799999985j)\n",
      "  (11, 0)\t(-7.999999993059415-5.345429087146488j)\n",
      "  (12, 0)\t(-8-8j)\n",
      "  (13, 0)\t(-8.000000006940585-11.972846047146486j)\n",
      "  (14, 0)\t(-8.000000000000002-19.313708480000003j)\n",
      "  (15, 0)\t(-8.000000032853514-40.21871583305942j)\n"
     ]
    }
   ],
   "source": [
    "sample=[0,1,2,3,4,5,6,7,8,9,10,11,12,13,14,15]\n",
    "print(np.fft.fft(sample))\n",
    "print(matrix_fft(sample))"
   ]
  },
  {
   "cell_type": "markdown",
   "metadata": {},
   "source": [
    "## Step 4: Evaluate all times.\n",
    "### Record their time."
   ]
  },
  {
   "cell_type": "code",
   "execution_count": 12,
   "metadata": {},
   "outputs": [
    {
     "name": "stdout",
     "output_type": "stream",
     "text": [
      "[0.0006091594696044922, 0.0011360645294189453, 0.001583099365234375, 0.0011928081512451172, 0.0017788410186767578, 0.0031800270080566406, 0.006699085235595703, 0.016450166702270508, 0.04776787757873535, 0.15590596199035645, 0.5904786586761475, 2.448486804962158, 10.54252004623413, 46.66577982902527, 390.2903518676758]\n",
      "[1.3113021850585938e-05, 1.4066696166992188e-05, 3.504753112792969e-05, 9.989738464355469e-05, 0.000347137451171875, 0.0013229846954345703, 0.00513005256652832, 0.020668983459472656, 0.12044787406921387, 0.3408517837524414, 1.3628661632537842, 5.508468866348267, 22.09361505508423, 88.01211380958557, 351.96764397621155]\n",
      "[0.0013260841369628906, 1.2874603271484375e-05, 3.790855407714844e-05, 3.886222839355469e-05, 8.487701416015625e-05, 0.00048089027404785156, 0.0008027553558349609, 0.0010461807250976562, 0.0026628971099853516, 0.005625009536743164, 0.012336254119873047, 0.027042150497436523, 0.05887794494628906, 0.12899398803710938, 0.2731921672821045, 0.5682816505432129, 1.2081148624420166, 2.563917636871338, 5.399604082107544, 11.422616720199585, 24.07486319541931, 50.47272610664368, 106.29113912582397]\n",
      "[0.00243377685546875, 0.0009579658508300781, 2.6226043701171875e-05, 1.5020370483398438e-05, 1.7881393432617188e-05, 0.0010039806365966797, 1.3113021850585938e-05, 1.3113021850585938e-05, 0.0004968643188476562, 0.0005459785461425781, 0.00010585784912109375, 0.0010042190551757812, 0.000518798828125, 0.0007388591766357422, 0.003526926040649414, 0.003030061721801758, 0.00970005989074707, 0.013128995895385742, 0.027224063873291016, 0.05612802505493164, 0.11401033401489258, 0.23032689094543457, 0.4812769889831543]\n"
     ]
    }
   ],
   "source": [
    "times_DFT0=[]\n",
    "times_DFT1=[]\n",
    "times_FFT=[]\n",
    "times_matrix=[]\n",
    "for i in range(15):\n",
    "    start_time=time.time()\n",
    "    DFT_0(sequences[i])\n",
    "    end_time=time.time()\n",
    "    times_DFT0.append(end_time-start_time)\n",
    "    \n",
    "\n",
    "    start_time=time.time()\n",
    "    matrix_fft(sequences[i])\n",
    "    end_time=time.time()\n",
    "    times_matrix.append(end_time-start_time)\n",
    "    \n",
    "for i in range(23):\n",
    "    start_time=time.time()\n",
    "    DFT_1_no_iter(sequences[i])\n",
    "    end_time=time.time()\n",
    "    times_DFT1.append(end_time-start_time)\n",
    "    \n",
    "    start_time=time.time()\n",
    "    np.fft.fft(sequences[i])\n",
    "    end_time=time.time()\n",
    "    times_FFT.append(end_time-start_time)\n",
    "    \n",
    "print(times_matrix)\n",
    "print(times_DFT0)\n",
    "print(times_DFT1)\n",
    "print(times_FFT)"
   ]
  },
  {
   "cell_type": "code",
   "execution_count": 13,
   "metadata": {},
   "outputs": [
    {
     "data": {
      "image/png": "[encoded data removed]",
      "text/plain": [
       "<Figure size 640x480 with 1 Axes>"
      ]
     },
     "metadata": {},
     "output_type": "display_data"
    }
   ],
   "source": [
    "plt.plot([log2(times_DFT0[i]) for i in range(len(times_DFT0))],'r',label=\"DFT_original\")\n",
    "plt.plot([log2(times_DFT1[i]) for i in range(len(times_DFT1))],'g',label=\"DFT_opt\")\n",
    "plt.plot([log2(times_FFT[i]) for i in range(len(times_FFT))],'b',label=\"numpy_FFT\")\n",
    "plt.plot([log2(times_matrix[i]) for i in range(len(times_matrix))],'y',label=\"matrix_fft\")\n",
    "plt.xticks([i for i in range(len(sequences))],[i+1 for i in range(len(sequences))])\n",
    "plt.xlabel(\"Signal Length in log\")\n",
    "plt.ylabel(\"time in log2\")\n",
    "plt.legend()\n",
    "plt.show()"
   ]
  }
 ],
 "metadata": {
  "kernelspec": {
   "display_name": "jittor",
   "language": "python",
   "name": "python3"
  },
  "language_info": {
   "codemirror_mode": {
    "name": "ipython",
    "version": 3
   },
   "file_extension": ".py",
   "mimetype": "text/x-python",
   "name": "python",
   "nbconvert_exporter": "python",
   "pygments_lexer": "ipython3",
   "version": "3.12.2"
  }
 },
 "nbformat": 4,
 "nbformat_minor": 2
}
